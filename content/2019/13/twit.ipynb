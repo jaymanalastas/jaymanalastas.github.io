{
 "cells": [
  {
   "cell_type": "markdown",
   "metadata": {},
   "source": [
    "\n",
    "## Access Twitter API in Python\n",
    "\n",
    "Once you have your Twitter app set-up, you are ready to access tweets in Python. Begin by importing the necessary Python libraries.\n",
    "\n",
    "To access the Twitter API, we'll need the following:\n",
    "\n",
    " - consumer key\n",
    " - consumer seceret key\n",
    " - access token key\n",
    " - access token secret key\n",
    " \n",
    "These keys are located in your Twitter app settings in the Keys and Access Tokens tab.\n",
    "\n",
    "#### Note - do not share these keys to anyone!\n",
    "\n",
    "First you will need define your keys: \n",
    "\n",
    " - __consumer_key= 'yourkeyhere'__\n",
    " - __consumer_secret= 'yourkeyhere'__\n",
    " - __access_token= 'yourkeyhere'__\n",
    " - __access_token_secret= 'yourkeyhere'__\n",
    "\n",
    "I stored my credentials in another py file and its part of .gitignore so that it doesn't push into my repo.\n"
   ]
  },
  {
   "cell_type": "code",
   "execution_count": 10,
   "metadata": {},
   "outputs": [],
   "source": [
    "import os\n",
    "import tweepy as tw\n",
    "import pandas as pd\n",
    "import config\n",
    "import seaborn as sns\n",
    "import matplotlib.pyplot as py\n",
    "%matplotlib inline"
   ]
  },
  {
   "cell_type": "code",
   "execution_count": 2,
   "metadata": {},
   "outputs": [],
   "source": [
    "auth = tw.OAuthHandler(config.consumer_key, config.consumer_secret)\n",
    "auth.set_access_token(config.access_token, config.access_token_secret)\n",
    "api = tw.API(auth, wait_on_rate_limit=True)\n"
   ]
  },
  {
   "cell_type": "markdown",
   "metadata": {},
   "source": [
    "Sending a twit: \n",
    "\n",
    "To see the example please follow the link and look at the first post:\n",
    "\n",
    "https://twitter.com/jaymanalastas\n",
    "\n",
    "After we run the command below, we'll commet it out so that it doesn't post multiple copies of it self."
   ]
  },
  {
   "cell_type": "code",
   "execution_count": 3,
   "metadata": {},
   "outputs": [],
   "source": [
    "# api.update_status(\"Check it out! I'm tweeting from my #jupyter_notebok using #python! Go to my website to find out how: https://jaymanalastas.github.io/2019/11/twitter-api.html\")"
   ]
  },
  {
   "cell_type": "markdown",
   "metadata": {},
   "source": [
    "## Search twitters for tweets\n",
    "\n",
    "Next we'll collect data on tesla. First we need to create query parameters: \n",
    "\n",
    " - 1. Search term - in our case it'll be #tesla\n",
    " - 2. Start date of our search\n",
    " \n",
    "__Please note__ that Twitter's API only allows access to past few weeks of tweets, so we can't dig too much into the data. "
   ]
  },
  {
   "cell_type": "code",
   "execution_count": 4,
   "metadata": {},
   "outputs": [],
   "source": [
    "search_words = '#tesla'\n",
    "new_search = search_words + \"-filter:retweets\" # this filters all retweets from our search\n",
    "date_since = '2019-10-01'"
   ]
  },
  {
   "cell_type": "markdown",
   "metadata": {},
   "source": [
    "Blow we created a script to query data from our parameter. We'll also use ___tweet.user.screen_name and tweet.user.location___ to get the location and screen name of our data. \n",
    "\n",
    "The reason is to filter out duplicate users and only take into account unique posters. The we transform the data into a data frame to do a little bit of EDA.\n",
    "\n",
    "We'll iterate through 1000 posts. "
   ]
  },
  {
   "cell_type": "code",
   "execution_count": 5,
   "metadata": {},
   "outputs": [],
   "source": [
    "tweets = tw.Cursor(api.search,\n",
    "                  q=new_search,\n",
    "                  lang='en',\n",
    "                  since=date_since).items(500)\n",
    "\n",
    "users_locs = [[tweet.user.screen_name, tweet.user.location] for tweet in tweets]\n",
    "\n"
   ]
  },
  {
   "cell_type": "code",
   "execution_count": 6,
   "metadata": {
    "scrolled": true
   },
   "outputs": [
    {
     "data": {
      "text/html": [
       "<div>\n",
       "<style scoped>\n",
       "    .dataframe tbody tr th:only-of-type {\n",
       "        vertical-align: middle;\n",
       "    }\n",
       "\n",
       "    .dataframe tbody tr th {\n",
       "        vertical-align: top;\n",
       "    }\n",
       "\n",
       "    .dataframe thead th {\n",
       "        text-align: right;\n",
       "    }\n",
       "</style>\n",
       "<table border=\"1\" class=\"dataframe\">\n",
       "  <thead>\n",
       "    <tr style=\"text-align: right;\">\n",
       "      <th></th>\n",
       "      <th>users</th>\n",
       "      <th>location</th>\n",
       "    </tr>\n",
       "  </thead>\n",
       "  <tbody>\n",
       "    <tr>\n",
       "      <th>0</th>\n",
       "      <td>alanyc1990</td>\n",
       "      <td>Downtown, Brooklyn</td>\n",
       "    </tr>\n",
       "    <tr>\n",
       "      <th>1</th>\n",
       "      <td>mithucanada</td>\n",
       "      <td>Toronto Canada</td>\n",
       "    </tr>\n",
       "    <tr>\n",
       "      <th>2</th>\n",
       "      <td>grandfloridian5</td>\n",
       "      <td></td>\n",
       "    </tr>\n",
       "    <tr>\n",
       "      <th>3</th>\n",
       "      <td>electriccargirl</td>\n",
       "      <td>Oregon Coast</td>\n",
       "    </tr>\n",
       "    <tr>\n",
       "      <th>4</th>\n",
       "      <td>cleanenergywire</td>\n",
       "      <td>Berlin</td>\n",
       "    </tr>\n",
       "    <tr>\n",
       "      <th>5</th>\n",
       "      <td>facts_tesla</td>\n",
       "      <td></td>\n",
       "    </tr>\n",
       "    <tr>\n",
       "      <th>6</th>\n",
       "      <td>LuvMyModel3</td>\n",
       "      <td>Grapevine, TX</td>\n",
       "    </tr>\n",
       "    <tr>\n",
       "      <th>7</th>\n",
       "      <td>lklundin</td>\n",
       "      <td>Greater Munich area</td>\n",
       "    </tr>\n",
       "    <tr>\n",
       "      <th>8</th>\n",
       "      <td>loky080659</td>\n",
       "      <td>World</td>\n",
       "    </tr>\n",
       "    <tr>\n",
       "      <th>9</th>\n",
       "      <td>IndecentP3D</td>\n",
       "      <td>Fort Lauderdale, FL</td>\n",
       "    </tr>\n",
       "  </tbody>\n",
       "</table>\n",
       "</div>"
      ],
      "text/plain": [
       "             users             location\n",
       "0       alanyc1990   Downtown, Brooklyn\n",
       "1      mithucanada       Toronto Canada\n",
       "2  grandfloridian5                     \n",
       "3  electriccargirl         Oregon Coast\n",
       "4  cleanenergywire               Berlin\n",
       "5      facts_tesla                     \n",
       "6      LuvMyModel3        Grapevine, TX\n",
       "7         lklundin  Greater Munich area\n",
       "8       loky080659                World\n",
       "9      IndecentP3D  Fort Lauderdale, FL"
      ]
     },
     "execution_count": 6,
     "metadata": {},
     "output_type": "execute_result"
    }
   ],
   "source": [
    "tweet_df = pd.DataFrame(data=users_locs,\n",
    "                       columns = ['users', 'location'])\n",
    "tweet_df.head(10)"
   ]
  },
  {
   "cell_type": "code",
   "execution_count": 36,
   "metadata": {
    "scrolled": false
   },
   "outputs": [
    {
     "data": {
      "text/html": [
       "<div>\n",
       "<style scoped>\n",
       "    .dataframe tbody tr th:only-of-type {\n",
       "        vertical-align: middle;\n",
       "    }\n",
       "\n",
       "    .dataframe tbody tr th {\n",
       "        vertical-align: top;\n",
       "    }\n",
       "\n",
       "    .dataframe thead th {\n",
       "        text-align: right;\n",
       "    }\n",
       "</style>\n",
       "<table border=\"1\" class=\"dataframe\">\n",
       "  <thead>\n",
       "    <tr style=\"text-align: right;\">\n",
       "      <th></th>\n",
       "      <th>users</th>\n",
       "    </tr>\n",
       "    <tr>\n",
       "      <th>location</th>\n",
       "      <th></th>\n",
       "    </tr>\n",
       "  </thead>\n",
       "  <tbody>\n",
       "    <tr>\n",
       "      <th></th>\n",
       "      <td>102</td>\n",
       "    </tr>\n",
       "    <tr>\n",
       "      <th>California, USA</th>\n",
       "      <td>13</td>\n",
       "    </tr>\n",
       "    <tr>\n",
       "      <th>Greater Munich area</th>\n",
       "      <td>11</td>\n",
       "    </tr>\n",
       "    <tr>\n",
       "      <th>Toronto, Ontario</th>\n",
       "      <td>9</td>\n",
       "    </tr>\n",
       "    <tr>\n",
       "      <th>London, England</th>\n",
       "      <td>9</td>\n",
       "    </tr>\n",
       "    <tr>\n",
       "      <th>Canada</th>\n",
       "      <td>9</td>\n",
       "    </tr>\n",
       "    <tr>\n",
       "      <th>Santa Barbara, CA</th>\n",
       "      <td>8</td>\n",
       "    </tr>\n",
       "    <tr>\n",
       "      <th>World</th>\n",
       "      <td>8</td>\n",
       "    </tr>\n",
       "    <tr>\n",
       "      <th>Germany</th>\n",
       "      <td>7</td>\n",
       "    </tr>\n",
       "    <tr>\n",
       "      <th>Brussels</th>\n",
       "      <td>7</td>\n",
       "    </tr>\n",
       "  </tbody>\n",
       "</table>\n",
       "</div>"
      ],
      "text/plain": [
       "                     users\n",
       "location                  \n",
       "                       102\n",
       "California, USA         13\n",
       "Greater Munich area     11\n",
       "Toronto, Ontario         9\n",
       "London, England          9\n",
       "Canada                   9\n",
       "Santa Barbara, CA        8\n",
       "World                    8\n",
       "Germany                  7\n",
       "Brussels                 7"
      ]
     },
     "execution_count": 36,
     "metadata": {},
     "output_type": "execute_result"
    }
   ],
   "source": [
    "df = tweet_df.groupby('location').count().sort_values(['users'], ascending= False).head(10)\n",
    "df"
   ]
  },
  {
   "cell_type": "markdown",
   "metadata": {},
   "source": [
    "## Customizing Twitter Queries\n",
    "\n",
    "Please checkout the second link on the credits below to see more of Twitter search query options. \n",
    "\n",
    "For example, if we search for '__#trump :(__' our query will search for all #trump with a negative attitude."
   ]
  },
  {
   "cell_type": "code",
   "execution_count": 58,
   "metadata": {},
   "outputs": [],
   "source": [
    "search_trump = '#trump :)' + \"-filter:retweets\"\n",
    "\n",
    "tweets = tw.Cursor(api.search,\n",
    "                  q=search_trump,\n",
    "                  lang=\"en\",\n",
    "                  since='2019-10-1').items(200)\n",
    "\n",
    "pos_trump = [[tweet.user.screen_name, tweet.text, tweet.user.location] for tweet in tweets]"
   ]
  },
  {
   "cell_type": "code",
   "execution_count": 59,
   "metadata": {
    "scrolled": false
   },
   "outputs": [
    {
     "data": {
      "text/html": [
       "<div>\n",
       "<style scoped>\n",
       "    .dataframe tbody tr th:only-of-type {\n",
       "        vertical-align: middle;\n",
       "    }\n",
       "\n",
       "    .dataframe tbody tr th {\n",
       "        vertical-align: top;\n",
       "    }\n",
       "\n",
       "    .dataframe thead th {\n",
       "        text-align: right;\n",
       "    }\n",
       "</style>\n",
       "<table border=\"1\" class=\"dataframe\">\n",
       "  <thead>\n",
       "    <tr style=\"text-align: right;\">\n",
       "      <th></th>\n",
       "      <th>users</th>\n",
       "      <th>text</th>\n",
       "      <th>location</th>\n",
       "    </tr>\n",
       "  </thead>\n",
       "  <tbody>\n",
       "    <tr>\n",
       "      <th>0</th>\n",
       "      <td>Fairview360</td>\n",
       "      <td>@GissiSim The only article I could find was a ...</td>\n",
       "      <td>Tuzla, Bosnia and Herzegovina</td>\n",
       "    </tr>\n",
       "    <tr>\n",
       "      <th>1</th>\n",
       "      <td>a982612</td>\n",
       "      <td>#Trump Sucks Fatballs in #Russia :D</td>\n",
       "      <td>Erdkern</td>\n",
       "    </tr>\n",
       "    <tr>\n",
       "      <th>2</th>\n",
       "      <td>faidr</td>\n",
       "      <td>In US this happens everywhere, it’s not #Trump...</td>\n",
       "      <td>Athens, Greece</td>\n",
       "    </tr>\n",
       "    <tr>\n",
       "      <th>3</th>\n",
       "      <td>linda_laman</td>\n",
       "      <td>@ClaryceQ @KathiYacobozzi took me an hr to sig...</td>\n",
       "      <td></td>\n",
       "    </tr>\n",
       "    <tr>\n",
       "      <th>4</th>\n",
       "      <td>linda_laman</td>\n",
       "      <td>@nichal111 it took me 1 hr to sign in ! they d...</td>\n",
       "      <td></td>\n",
       "    </tr>\n",
       "    <tr>\n",
       "      <th>5</th>\n",
       "      <td>FlooringMatches</td>\n",
       "      <td>Dr Evil needs door bars too...\\n\\nSign up for ...</td>\n",
       "      <td>Brixham, Devon</td>\n",
       "    </tr>\n",
       "    <tr>\n",
       "      <th>6</th>\n",
       "      <td>a982612</td>\n",
       "      <td>#Trump Sucks Fatballs in #Russia :D</td>\n",
       "      <td>Erdkern</td>\n",
       "    </tr>\n",
       "    <tr>\n",
       "      <th>7</th>\n",
       "      <td>LadyDragon13</td>\n",
       "      <td>PEOPLE HAPPY TO SEE DONALD :)\\n\\n@POTUS #8CHAN...</td>\n",
       "      <td>Montréal, Québec</td>\n",
       "    </tr>\n",
       "    <tr>\n",
       "      <th>8</th>\n",
       "      <td>VotingFemaIe</td>\n",
       "      <td>Liberals At LSU Alabama Game Got Their UK Baby...</td>\n",
       "      <td>Phoenix, Arizona</td>\n",
       "    </tr>\n",
       "    <tr>\n",
       "      <th>9</th>\n",
       "      <td>Cybts1</td>\n",
       "      <td>So I guess this time his people will make the ...</td>\n",
       "      <td>The Garden State</td>\n",
       "    </tr>\n",
       "  </tbody>\n",
       "</table>\n",
       "</div>"
      ],
      "text/plain": [
       "             users                                               text  \\\n",
       "0      Fairview360  @GissiSim The only article I could find was a ...   \n",
       "1          a982612                #Trump Sucks Fatballs in #Russia :D   \n",
       "2            faidr  In US this happens everywhere, it’s not #Trump...   \n",
       "3      linda_laman  @ClaryceQ @KathiYacobozzi took me an hr to sig...   \n",
       "4      linda_laman  @nichal111 it took me 1 hr to sign in ! they d...   \n",
       "5  FlooringMatches  Dr Evil needs door bars too...\\n\\nSign up for ...   \n",
       "6          a982612                #Trump Sucks Fatballs in #Russia :D   \n",
       "7     LadyDragon13  PEOPLE HAPPY TO SEE DONALD :)\\n\\n@POTUS #8CHAN...   \n",
       "8     VotingFemaIe  Liberals At LSU Alabama Game Got Their UK Baby...   \n",
       "9           Cybts1  So I guess this time his people will make the ...   \n",
       "\n",
       "                         location  \n",
       "0  Tuzla, Bosnia and Herzegovina   \n",
       "1                         Erdkern  \n",
       "2                  Athens, Greece  \n",
       "3                                  \n",
       "4                                  \n",
       "5                  Brixham, Devon  \n",
       "6                         Erdkern  \n",
       "7                Montréal, Québec  \n",
       "8                Phoenix, Arizona  \n",
       "9                The Garden State  "
      ]
     },
     "execution_count": 59,
     "metadata": {},
     "output_type": "execute_result"
    }
   ],
   "source": [
    "df_trump = pd.DataFrame(data=pos_trump,\n",
    "                       columns = ['users', 'text', 'location'])\n",
    "df_trump.head(10)"
   ]
  },
  {
   "cell_type": "code",
   "execution_count": 57,
   "metadata": {
    "scrolled": true
   },
   "outputs": [
    {
     "data": {
      "text/plain": [
       "users                                                wmagates\n",
       "text        Groper In Chief: Donald #Trump Allegedly Hid B...\n",
       "location                                                     \n",
       "Name: 9, dtype: object"
      ]
     },
     "execution_count": 57,
     "metadata": {},
     "output_type": "execute_result"
    }
   ],
   "source": [
    "df_trump.loc[9]"
   ]
  },
  {
   "cell_type": "markdown",
   "metadata": {},
   "source": [
    "## Part II of Twitter's API  \n",
    "\n",
    "The next part will analyze the frequency of words in a tweet. "
   ]
  },
  {
   "cell_type": "markdown",
   "metadata": {},
   "source": [
    "### Credits: \n",
    "\n",
    " - https://developer.twitter.com\n",
    " - https://developer.twitter.com/en/docs/tweets/rules-and-filtering/overview/standard-operators\n",
    " - https://www.earthdatascience.org/courses/earth-analytics-python/using-apis-natural-language-processing-twitter/get-and-use-twitter-data-in-python/\n",
    " - https://github.com/tweepy/tweepy/blob/master/tweepy/api.py"
   ]
  },
  {
   "cell_type": "code",
   "execution_count": null,
   "metadata": {},
   "outputs": [],
   "source": []
  }
 ],
 "metadata": {
  "kernelspec": {
   "display_name": "Python 3",
   "language": "python",
   "name": "python3"
  },
  "language_info": {
   "codemirror_mode": {
    "name": "ipython",
    "version": 3
   },
   "file_extension": ".py",
   "mimetype": "text/x-python",
   "name": "python",
   "nbconvert_exporter": "python",
   "pygments_lexer": "ipython3",
   "version": "3.7.3"
  }
 },
 "nbformat": 4,
 "nbformat_minor": 2
}
