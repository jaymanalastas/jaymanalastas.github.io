{
 "cells": [
  {
   "cell_type": "markdown",
   "metadata": {},
   "source": [
    "## Deep Dive into Seaborn\n",
    "\n",
    "#### Overview:\n",
    "\n",
    " - Seaborn is a popular data visualization library for Python\n",
    " - It is a combination of aesthetic appeal, technical insights and ease of use. \n",
    " - Sample sns plots, graphs and customization tools available through seaborn\n",
    "\n"
   ]
  },
  {
   "cell_type": "markdown",
   "metadata": {},
   "source": [
    "\n",
    "## Introduction\n",
    "\n",
    "Seaborn is built based on $matplotlib$ library. It is used to create well-designed visualizatoin with nice aesthetic quality and provides meaningful insights. As a Seaborn user, you are able to customize the color so it stands out, define boundaries to see data more clearly and add different parameters to gain more insight with a messy data. \n",
    "\n",
    "As a data scientist, our job is to provide explanations to our stakeholders/clients. More often than not, these people rely on us and our data to make snap decisions. Having visual representation of our findings and insight coupled with our presentation will go a long way in our careers. \n",
    "\n",
    "\n",
    "Although there are other Python libraries for visualization, Seaborn is a clear favorite of mine due to ease of use and technical insight it provides.  \n",
    "\n",
    "\n"
   ]
  },
  {
   "cell_type": "markdown",
   "metadata": {},
   "source": [
    "## fig"
   ]
  },
  {
   "cell_type": "markdown",
   "metadata": {},
   "source": [
    "## Table of Contents\n",
    "\n",
    "- Setting up the Environment\n",
    "- Data Visualizatoin using Seaborn\n",
    "    - Satistical Relationships\n",
    "    - Plotting Categorical Data\n",
    "    - Visualizaing the Distribution of a Dataset"
   ]
  },
  {
   "cell_type": "markdown",
   "metadata": {},
   "source": [
    "### 1.) Setting up the Environment\n",
    "\n",
    "The seaborn library has four mandatory dependencies it needs for it to run: \n",
    "\n",
    " - Numpy\n",
    " - Scipy \n",
    " - matplotlib\n",
    " - Pandas\n",
    " \n",
    "In order to use Seaborn we need to install all the depedencies mentioned above. Once that is done, we are ready to use the Seaborn library. \n",
    "\n",
    "Importing dependenices and seaborn itself in your Juptyer Notebooke. Please look below for the codes:\n"
   ]
  },
  {
   "cell_type": "code",
   "execution_count": 3,
   "metadata": {},
   "outputs": [],
   "source": [
    "import numpy as np\n",
    "import matplotlib.pyplot as plt\n",
    "import seaborn as sns\n",
    "import pandas as pd \n",
    "from scipy import stats\n",
    "\n"
   ]
  },
  {
   "cell_type": "markdown",
   "metadata": {},
   "source": [
    "We're all set to explore seaborn!\n",
    "\n",
    "### 2.) Dataset Used for Data Visualization\n",
    "\n",
    "We will work with a data set from kaggle. This is the api command to download the dataset from kaggle.\n",
    "\n",
    "pip install kaggle and run the below command to a file location you want the data to be house at.\n",
    "\n",
    "$kaggle datasets download -d jsphyg/tipping$\n",
    "\n",
    "I've picked this dataset because they contain a good set of features in both categorical and numerical instance. This dataset is comes from kaggle and is real, this is important because it'll give us an idea of how data visualization and exploration work is done.\n",
    "\n",
    "\n"
   ]
  },
  {
   "cell_type": "code",
   "execution_count": null,
   "metadata": {},
   "outputs": [],
   "source": []
  }
 ],
 "metadata": {
  "kernelspec": {
   "display_name": "Python 3",
   "language": "python",
   "name": "python3"
  },
  "language_info": {
   "codemirror_mode": {
    "name": "ipython",
    "version": 3
   },
   "file_extension": ".py",
   "mimetype": "text/x-python",
   "name": "python",
   "nbconvert_exporter": "python",
   "pygments_lexer": "ipython3",
   "version": "3.7.3"
  }
 },
 "nbformat": 4,
 "nbformat_minor": 2
}
